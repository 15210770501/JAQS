{
 "cells": [
  {
   "cell_type": "markdown",
   "metadata": {},
   "source": [
    "# 波动率计算与应用"
   ]
  },
  {
   "cell_type": "markdown",
   "metadata": {},
   "source": [
    "## 本段代码利用quantOS系统分析了三个期货产品日收益率的波动率，及其能否随时间变化scale"
   ]
  },
  {
   "cell_type": "code",
   "execution_count": null,
   "metadata": {},
   "outputs": [],
   "source": [
    "# import sys\n",
    "# sys.path.append('/home/bliu/pytrade_dir/jaqs')"
   ]
  },
  {
   "cell_type": "code",
   "execution_count": null,
   "metadata": {},
   "outputs": [],
   "source": [
    "import numpy as np\n",
    "import pandas as pd\n",
    "import matplotlib.pyplot as plt\n",
    "import datetime\n",
    "import seaborn as sns\n",
    "from jaqs.data import RemoteDataService\n",
    "sns.set_style('darkgrid')\n",
    "%matplotlib inline"
   ]
  },
  {
   "cell_type": "markdown",
   "metadata": {
    "collapsed": true
   },
   "source": [
    "### 系统设置"
   ]
  },
  {
   "cell_type": "code",
   "execution_count": null,
   "metadata": {},
   "outputs": [],
   "source": [
    "# 设置服务器地址、用户名密码\n",
    "# 例如：\n",
    "# data_config = {\n",
    "#   \"remote.data.address\": \"tcp://data.tushare.org:8910\",\n",
    "#   \"remote.data.username\":  '18688888888',\n",
    "#   \"remote.data.password\":  '23sdjfk209d0fs9dejkl2j3k4j9d0fsdf'}\n",
    "\n",
    "# 如果没有使用quantos金融终端，请自行替换phone,token内容\n",
    "import os\n",
    "phone = os.environ.get(\"QUANTOS_USER\")\n",
    "token = os.environ.get(\"QUANTOS_TOKEN\")\n",
    "\n",
    "data_config = {\n",
    "  \"timeout\": 1800,\n",
    "  \"remote.data.address\": \"tcp://data.tushare.org:8910\",\n",
    "  \"remote.data.username\":  phone,\n",
    "  \"remote.data.password\":  token}\n",
    "\n",
    "# 启动DataView，并设置用户名密码\n",
    "ds = RemoteDataService()\n",
    "ds.init_from_config(data_config)"
   ]
  },
  {
   "cell_type": "markdown",
   "metadata": {},
   "source": [
    "### 整合连续合约（可忽略这部分的实现细节）"
   ]
  },
  {
   "cell_type": "code",
   "execution_count": null,
   "metadata": {},
   "outputs": [],
   "source": [
    "def query_daily_data(data_service, df_inst_map_, fields_):\n",
    "    future_list = []\n",
    "    for _, row in df_inst_map_.iterrows():\n",
    "        startdate, enddate, symbol = int(row['pre_trade_date']), row['trade_date'], row['symbol']\n",
    "        df_future, msg1 = data_service.daily(symbol, start_date = startdate, end_date = enddate, fields=fields_)\n",
    "        df_future['pre_close'] = df_future['close'].shift(1)\n",
    "        df_future['log_ret'] = np.log(df_future['close']).diff()\n",
    "        df_future = df_future.dropna()\n",
    "        future_list.append(df_future)\n",
    "    return future_list"
   ]
  },
  {
   "cell_type": "code",
   "execution_count": null,
   "metadata": {},
   "outputs": [],
   "source": [
    "def get_symbol_date_map(data_service, df_inst_, start_date, end_date, days_to_delist):\n",
    "    \"\"\"\n",
    "    Get a map {trade_date -> front month contract symbol}\n",
    "\n",
    "    \"\"\"\n",
    "    # get the trade date list between start_date and end_date\n",
    "    dates = data_service.get_trade_date_range(start_date, end_date)\n",
    "    symbols_list = []\n",
    "    move_list = []\n",
    "\n",
    "    mask_within_range = (df_inst_['delist_date'] > dates[0]) & (df_inst_['list_date'] < dates[-1])\n",
    "    df_inst_ = df_inst_.loc[mask_within_range]\n",
    "\n",
    "    j = 0\n",
    "    for i, td in enumerate(dates):\n",
    "        delist_date = df_inst_['delist_date'].iat[j]\n",
    "        idx = np.nonzero(dates == delist_date)\n",
    "\n",
    "        if (delist_date <= dates[-1]) and (idx[0][0] - i <= days_to_delist):\n",
    "            j += 1\n",
    "            delist_date = df_inst_['delist_date'].iat[j]\n",
    "            move_list.append(1)\n",
    "        else:\n",
    "            move_list.append(0)\n",
    "        symbol = df_inst_['symbol'].iat[j]\n",
    "        symbols_list.append(symbol)\n",
    "\n",
    "    res = pd.DataFrame(data={'trade_date': dates, 'symbol': symbols_list, 'move': move_list})\n",
    "    res.loc[:, 'move'] = res['move'].shift(-1)\n",
    "    return res"
   ]
  },
  {
   "cell_type": "code",
   "execution_count": null,
   "metadata": {},
   "outputs": [],
   "source": [
    "def get_continueContract(FUTURE_SYMBOL, MARKET, START_DATE, END_DATE, CHANGE_DATE, FIELDS):\n",
    "\n",
    "    # get the information of front month contract\n",
    "    df_inst = ds.query_inst_info(symbol=\"\",\n",
    "                                 fields=','.join(['symbol', 'inst_type', 'market', 'status', 'multiplier', 'list_date',\n",
    "                                                  'delist_date']))\n",
    "    df_inst = df_inst.reset_index()\n",
    "    mask_stock_index_future = df_inst['symbol'].apply(lambda s:\n",
    "                                                      s.startswith(FUTURE_SYMBOL) and s.endswith(MARKET) and s[len(FUTURE_SYMBOL)] != 'F'\n",
    "                                                      )\n",
    "    df_inst = df_inst.loc[mask_stock_index_future]\n",
    "    df_inst.index = range(len(df_inst))\n",
    "    df_inst = df_inst.sort_values('delist_date')\n",
    "\n",
    "    first_list_date = df_inst['list_date'].min()\n",
    "    if START_DATE < first_list_date:\n",
    "        START_DATE = first_list_date\n",
    "    else:\n",
    "        pass\n",
    "\n",
    "    # get the front month contract for each trading date\n",
    "    df_inst_map = get_symbol_date_map(ds, df_inst, START_DATE, END_DATE, CHANGE_DATE)\n",
    "    df_inst_map['pre_trade_date'] = df_inst_map['trade_date'].shift(1)\n",
    "    df_inst_map = df_inst_map.dropna()\n",
    "    df_inst_map['pre_trade_date'] = df_inst_map['pre_trade_date'].apply(lambda x: int(x))\n",
    "\n",
    "    # get the daily info\n",
    "    symbols = np.unique(df_inst_map['symbol'])\n",
    "    symbols_str = ','.join(symbols)\n",
    "\n",
    "    future_list = query_daily_data(ds, df_inst_map, FIELDS)\n",
    "\n",
    "    df_future_daily = pd.concat(future_list).astype({'trade_date': np.integer}).set_index(\n",
    "        ['trade_date'])\n",
    "    del df_future_daily['freq']\n",
    "    df_inst_map.index = df_inst_map['trade_date']\n",
    "    df_future_daily = pd.merge(left = df_future_daily, right = df_inst_map[['move']],\n",
    "                               left_index=True, right_index=True, how = 'left')\n",
    "\n",
    "    df_future_daily['ret_shift'] = 0.0\n",
    "\n",
    "    df_future_daily['trade_date'] = df_future_daily.index\n",
    "    df_future_daily.index = range(len(df_future_daily))\n",
    "\n",
    "    for i in range(len(df_future_daily) - 1):\n",
    "        if df_future_daily.ix[i, 'move'] == 1.0:\n",
    "            df_future_daily.ix[i, 'ret_shift'] = np.log(df_future_daily.ix[i+1, 'close']) - np.log(df_future_daily.ix[i, 'close'])\n",
    "\n",
    "    df_future_daily.index = df_future_daily['trade_date']\n",
    "    df_future_daily['trade_date'] = df_future_daily['trade_date'].apply(lambda x: datetime.datetime.strptime(str(x), '%Y%m%d').date())\n",
    "    return df_future_daily"
   ]
  },
  {
   "cell_type": "markdown",
   "metadata": {},
   "source": [
    "### 设置参数"
   ]
  },
  {
   "cell_type": "code",
   "execution_count": null,
   "metadata": {},
   "outputs": [],
   "source": [
    "# 开始日期\n",
    "STARTDATE = 20130101\n",
    "# 结束日期\n",
    "ENDDATE   = 20180108\n",
    "# 到期日前n天进行合约切换\n",
    "DAYS_BEFORE_SHIFT = 3\n",
    "RollingWindow = 30\n",
    "FIELDS = 'close'"
   ]
  },
  {
   "cell_type": "markdown",
   "metadata": {},
   "source": [
    "### 取期货连续合约日收益率"
   ]
  },
  {
   "cell_type": "code",
   "execution_count": null,
   "metadata": {},
   "outputs": [],
   "source": [
    "IF_df = get_continueContract('IF', 'CFE', STARTDATE, ENDDATE, DAYS_BEFORE_SHIFT, FIELDS)\n",
    "T_df = get_continueContract('T', 'CFE', STARTDATE, ENDDATE, DAYS_BEFORE_SHIFT, FIELDS)\n",
    "rb_df = get_continueContract('rb', 'SHF', STARTDATE, ENDDATE, DAYS_BEFORE_SHIFT, FIELDS)"
   ]
  },
  {
   "cell_type": "markdown",
   "metadata": {},
   "source": [
    "### 做图展示三个品种的日对数收益率 "
   ]
  },
  {
   "cell_type": "code",
   "execution_count": null,
   "metadata": {},
   "outputs": [],
   "source": [
    "# IF\n",
    "fig, ax1 = plt.subplots(figsize=(18, 9))\n",
    "ax1.plot(IF_df['trade_date'], IF_df['log_ret'], label = 'log return', color = 'blue', linewidth = 0.8, alpha = 0.8)\n",
    "ax1.axhline(y = 0, color = 'red', linestyle = '--', linewidth = 0.8, alpha = 0.8)\n",
    "plt.legend(fontsize = 12)\n",
    "plt.title('Daily log return of IF contract', fontsize=15)\n",
    "plt.show()"
   ]
  },
  {
   "cell_type": "code",
   "execution_count": null,
   "metadata": {},
   "outputs": [],
   "source": [
    "# T\n",
    "fig, ax1 = plt.subplots(figsize=(18, 9))\n",
    "ax1.plot(T_df['trade_date'], T_df['log_ret'], label = 'log return', color = 'blue', linewidth = 0.8, alpha = 0.8)\n",
    "ax1.axhline(y = 0, color = 'red', linestyle = '--', linewidth = 0.8, alpha = 0.8)\n",
    "plt.legend(fontsize = 12)\n",
    "plt.title('Daily log return of T contract', fontsize=15)\n",
    "plt.show()"
   ]
  },
  {
   "cell_type": "code",
   "execution_count": null,
   "metadata": {},
   "outputs": [],
   "source": [
    "# rb\n",
    "fig, ax1 = plt.subplots(figsize=(18, 9))\n",
    "ax1.plot(rb_df['trade_date'], rb_df['log_ret'], label = 'log return', color = 'blue', linewidth = 0.8, alpha = 0.8)\n",
    "ax1.axhline(y = 0, color = 'red', linestyle = '--', linewidth = 0.8, alpha = 0.8)\n",
    "plt.legend(fontsize = 12)\n",
    "plt.title('Daily log return of rb contract', fontsize=15)\n",
    "plt.show()"
   ]
  },
  {
   "cell_type": "markdown",
   "metadata": {},
   "source": [
    "### 计算移动窗口波动率"
   ]
  },
  {
   "cell_type": "code",
   "execution_count": null,
   "metadata": {},
   "outputs": [],
   "source": [
    "# 计算波动率\n",
    "def calc_vol(arr):\n",
    "    return np.sqrt(np.sum((arr - 0.0)**2) / len(arr))"
   ]
  },
  {
   "cell_type": "code",
   "execution_count": null,
   "metadata": {},
   "outputs": [],
   "source": [
    "# 计算移动窗口波动率\n",
    "def process_roll_vol(df):\n",
    "    df['rolling_vol'] = df['log_ret'].rolling(window=RollingWindow).apply(calc_vol)\n",
    "    return df\n",
    "def plot_roll_vol(df, name):\n",
    "    fig, ax1 = plt.subplots(figsize=(18, 9))\n",
    "    ax1.plot(df['trade_date'], df['rolling_vol'], label = 'Normal Std', color = 'blue', linewidth = 0.8, alpha = 0.8)\n",
    "    #ax1.plot(df['trade_date'], df['ewma_vol'], label = 'EWMA Std', color = 'red', linewidth = 0.8, alpha = 0.8)\n",
    "    # ax1.axhline(y = 0, color = 'red', linestyle = '--', linewidth = 0.8, alpha = 0.8)\n",
    "    plt.legend(fontsize = 12)\n",
    "    plt.title('Rolling window volatility of {} contract'.format(name), fontsize=15)\n",
    "    plt.show()"
   ]
  },
  {
   "cell_type": "code",
   "execution_count": null,
   "metadata": {},
   "outputs": [],
   "source": [
    "IF_df = process_roll_vol(IF_df)\n",
    "plot_roll_vol(IF_df, 'IF')"
   ]
  },
  {
   "cell_type": "code",
   "execution_count": null,
   "metadata": {},
   "outputs": [],
   "source": [
    "T_df = process_roll_vol(T_df)\n",
    "plot_roll_vol(T_df, 'T')"
   ]
  },
  {
   "cell_type": "code",
   "execution_count": null,
   "metadata": {},
   "outputs": [],
   "source": [
    "rb_df = process_roll_vol(rb_df)\n",
    "plot_roll_vol(rb_df, 'RB')"
   ]
  },
  {
   "cell_type": "markdown",
   "metadata": {},
   "source": [
    "### 检验波动率可否scale"
   ]
  },
  {
   "cell_type": "code",
   "execution_count": null,
   "metadata": {},
   "outputs": [],
   "source": [
    "# periodList = [1,2,3,4,5,10,20,40,50,60,70,80,90,100]\n",
    "periodList = np.arange(1,40)\n",
    "TO_BPS = 1e4"
   ]
  },
  {
   "cell_type": "code",
   "execution_count": null,
   "metadata": {},
   "outputs": [],
   "source": [
    "def scale_plot(dframe, symbol):\n",
    "    volList = []\n",
    "    for Nperiod in periodList:\n",
    "        dframe['group'] = np.arange(len(dframe))/Nperiod\n",
    "        dframe_cum_ret = dframe.groupby('group')['log_ret'].sum()\n",
    "        vol = calc_vol(dframe_cum_ret)\n",
    "        volList.append(vol)\n",
    "    scalevolList = [np.sqrt(x) * volList[0] for x in periodList]\n",
    "    \n",
    "    table = pd.DataFrame(data={'n Days': periodList, 'Volatility (bps)': volList}).set_index('n Days')\n",
    "    table = table.T\n",
    "    table = (table * TO_BPS).astype(int)\n",
    "    \n",
    "    # 画图\n",
    "    fig, ax1 = plt.subplots(figsize=(18, 9))\n",
    "    ax1.scatter(periodList, volList)\n",
    "    ax1.plot(periodList, scalevolList, color = 'red', linestyle = '-', linewidth = 0.8, alpha = 0.8,\n",
    "            label = r'$\\sqrt{x}$')\n",
    "    ax1.set_ylabel('volatility', fontsize = 15)\n",
    "    ax1.set_xlabel('days', fontsize = 15)\n",
    "    plt.legend(fontsize = 15)\n",
    "    plt.title('Scalability of volatlity of %s contract' % symbol, fontsize=15)\n",
    "    plt.show()\n",
    "    \n",
    "    return table.iloc[:, [0, 4, 9, 19, 29]]"
   ]
  },
  {
   "cell_type": "code",
   "execution_count": null,
   "metadata": {},
   "outputs": [],
   "source": [
    "scale_plot(T_df, 'T')"
   ]
  },
  {
   "cell_type": "code",
   "execution_count": null,
   "metadata": {},
   "outputs": [],
   "source": [
    "scale_plot(IF_df, 'IF')"
   ]
  },
  {
   "cell_type": "code",
   "execution_count": null,
   "metadata": {},
   "outputs": [],
   "source": [
    "scale_plot(rb_df, 'RB')"
   ]
  },
  {
   "cell_type": "code",
   "execution_count": null,
   "metadata": {},
   "outputs": [],
   "source": []
  }
 ],
 "metadata": {
  "kernelspec": {
   "display_name": "Python 3",
   "language": "python",
   "name": "python3"
  },
  "language_info": {
   "codemirror_mode": {
    "name": "ipython",
    "version": 3
   },
   "file_extension": ".py",
   "mimetype": "text/x-python",
   "name": "python",
   "nbconvert_exporter": "python",
   "pygments_lexer": "ipython3",
   "version": "3.6.3"
  }
 },
 "nbformat": 4,
 "nbformat_minor": 2
}
