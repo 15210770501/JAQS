{
 "cells": [
  {
   "cell_type": "markdown",
   "metadata": {},
   "source": [
    "# 凯利公式与扔骰子"
   ]
  },
  {
   "cell_type": "markdown",
   "metadata": {},
   "source": [
    "## 本文以扔硬币为例，在给定概率和盈亏比情况下，通过模拟验证了根据凯利公式确定的下注比率为最优。"
   ]
  },
  {
   "cell_type": "code",
   "execution_count": 1,
   "metadata": {},
   "outputs": [],
   "source": [
    "import pandas as pd\n",
    "import numpy as np\n",
    "import seaborn as sns\n",
    "import matplotlib.mlab as mlab\n",
    "import datetime\n",
    "from collections import defaultdict\n",
    "import scipy.stats as stats\n",
    "import matplotlib.pyplot as plt\n",
    "sns.set_style('darkgrid')\n",
    "%matplotlib inline"
   ]
  },
  {
   "cell_type": "markdown",
   "metadata": {},
   "source": [
    "### 凯利公式 $f = \\frac{b·p - q}{b}$"
   ]
  },
  {
   "cell_type": "markdown",
   "metadata": {},
   "source": [
    "### 用户参数设置"
   ]
  },
  {
   "cell_type": "code",
   "execution_count": 2,
   "metadata": {},
   "outputs": [],
   "source": [
    "# b为赔率\n",
    "b = 1.001\n",
    "# p为猜对的概率\n",
    "p = 0.52\n",
    "# q为猜错的概率\n",
    "q = 1-p\n",
    "# N为总模拟次数\n",
    "N = 1000\n",
    "# Nround为每次模拟掷硬币的次数\n",
    "Nround = 10000\n",
    "# 初始资金\n",
    "init_balance = 10000"
   ]
  },
  {
   "cell_type": "code",
   "execution_count": 3,
   "metadata": {},
   "outputs": [],
   "source": [
    "# 根据凯利公式计算最优下注比率\n",
    "optimalRatio = (b * p - q)/b\n",
    "\n",
    "ratio_list = [optimalRatio / 4.0, optimalRatio/ 2.0, optimalRatio*2.0, optimalRatio*4.0]\n",
    "#ratio_list = np.delete(ratio_list, [int(3.0-1)])\n",
    "\n",
    "optimal_balance = np.zeros(Nround + 1)\n",
    "ratio_balance = {}\n",
    "for tmpratio in ratio_list:\n",
    "    ratio_balance[tmpratio] = np.zeros(Nround + 1)\n",
    "\n",
    "optimalbalance = []"
   ]
  },
  {
   "cell_type": "code",
   "execution_count": 4,
   "metadata": {},
   "outputs": [],
   "source": [
    "for i in range(N):\n",
    "#     print i\n",
    "    # 生成随机数\n",
    "    draws = np.random.uniform(0, 1, Nround)\n",
    "\n",
    "    # 初始资金\n",
    "    cur_balance = init_balance\n",
    "    balance_list = [init_balance]\n",
    "\n",
    "    # balance_dic保存不同ratio下的资金\n",
    "    balance_dic = defaultdict(list)\n",
    "    for tmpratio in ratio_list:\n",
    "        balance_dic[tmpratio].append(init_balance)\n",
    "\n",
    "    for draw in draws:\n",
    "        if draw <= p:\n",
    "            # 猜对\n",
    "            cur_balance += cur_balance * optimalRatio * b\n",
    "            balance_list.append(cur_balance)\n",
    "            for tmpratio in ratio_list:\n",
    "                tmpbalance = balance_dic[tmpratio][-1]\n",
    "                tmpbalance += tmpbalance * tmpratio * b\n",
    "                balance_dic[tmpratio].append(tmpbalance)\n",
    "        else:\n",
    "            # 猜错\n",
    "            cur_balance -= cur_balance * optimalRatio\n",
    "            balance_list.append(cur_balance)\n",
    "            for tmpratio in ratio_list:\n",
    "                tmpbalance = balance_dic[tmpratio][-1]\n",
    "                tmpbalance -= tmpbalance * tmpratio\n",
    "                balance_dic[tmpratio].append(tmpbalance)\n",
    "    \n",
    "#     print balance_list[-1]\n",
    "    \n",
    "    optimal_balance += np.array(balance_list)\n",
    "\n",
    "    for tmpratio in ratio_list:\n",
    "        ratio_balance[tmpratio] += np.array(balance_dic[tmpratio])\n",
    "#         print balance_dic[tmpratio][-1]\n",
    "\n",
    "optimal_balance /= N\n",
    "for tmpratio in ratio_list:\n",
    "    ratio_balance[tmpratio] /= N"
   ]
  },
  {
   "cell_type": "code",
   "execution_count": 5,
   "metadata": {},
   "outputs": [],
   "source": [
    "# 设置画图颜色\n",
    "colormap = [(31, 119, 180) , (174, 199, 232) , (255, 127, 14)  , (255, 187, 120), \n",
    "            (44, 160, 44)  , (152, 223, 138) , (148, 103, 189) , (197, 176, 213), \n",
    "            (214, 39, 40)  , (255, 152, 150) , (140, 86, 75)   , (196, 156, 148),  \n",
    "            (227, 119, 194), (247, 182, 210) , (127, 127, 127) , (199, 199, 199),  \n",
    "            (188, 189, 34) , (219, 219, 141) , (23, 190, 207)  , (158, 218, 229)]  \n",
    "\n",
    "for i in range(len(colormap)):  \n",
    "    r, g, bb = colormap[i]  \n",
    "    colormap[i] = (r / 255., g / 255., bb / 255.)  "
   ]
  },
  {
   "cell_type": "code",
   "execution_count": 6,
   "metadata": {},
   "outputs": [
    {
     "data": {
      "image/png": "[encoded data removed]",
      "text/plain": [
       "<matplotlib.figure.Figure at 0x976e1d0>"
      ]
     },
     "metadata": {},
     "output_type": "display_data"
    }
   ],
   "source": [
    "# 画图\n",
    "fig, ax1 = plt.subplots(figsize=(18, 9))\n",
    "ax1.plot(balance_list, color = 'blue', label = 'Optimal : %.3f' % optimalRatio, linewidth = 0.8, alpha = 0.8)\n",
    "for i in range(len(ratio_list)):\n",
    "    ax1.plot(balance_dic[ratio_list[i]], color = colormap[i], label = '%.3f' % ratio_list[i], linewidth = 0.8, alpha = 0.8)\n",
    "ax1.axhline(y = init_balance, color = 'red', linestyle = '--', linewidth = 0.8, alpha = 0.8)\n",
    "ax1.set_ylabel('Size', fontsize = 12)\n",
    "#ax1.set_yscale(\"log\")\n",
    "plt.legend(fontsize = 12)\n",
    "# ax2 = ax1.twinx()\n",
    "# ax2.plot(dateList, closeArray, color = 'red')\n",
    "# ax2.set_ylabel('Price')\n",
    "# plt.axvline(Nround / 5., c='k', ls='--')\n",
    "plt.title('Balance under different ratio', fontsize=15)\n",
    "plt.show()"
   ]
  }
 ],
 "metadata": {
  "kernelspec": {
   "display_name": "Python 3",
   "language": "python",
   "name": "python3"
  },
  "language_info": {
   "codemirror_mode": {
    "name": "ipython",
    "version": 3
   },
   "file_extension": ".py",
   "mimetype": "text/x-python",
   "name": "python",
   "nbconvert_exporter": "python",
   "pygments_lexer": "ipython3",
   "version": "3.6.3"
  }
 },
 "nbformat": 4,
 "nbformat_minor": 2
}
