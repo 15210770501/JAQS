{
 "cells": [
  {
   "cell_type": "markdown",
   "metadata": {},
   "source": [
    "# DemoStrategy"
   ]
  },
  {
   "cell_type": "markdown",
   "metadata": {},
   "source": [
    "## 视频中介绍了针对四只股票的等权重投资策略，本段代码展示了利用quantOS系统进行策略回测及仿真交易的具体步骤。\n",
    "## 在程序运行之前，需要您在环境设置中更改以下参数：\n",
    "## 1. 将YourPhoneNo.改为您在quantOS网站注册的手机号;\n",
    "## 2. 将YourToken改为您的token;\n",
    "## 3. 将YourStrategyNo.改为您的策略号。"
   ]
  },
  {
   "cell_type": "markdown",
   "metadata": {},
   "source": [
    "## 1. 环境设置"
   ]
  },
  {
   "cell_type": "code",
   "execution_count": 1,
   "metadata": {},
   "outputs": [],
   "source": [
    "# -*- encoding: utf-8 -*-\n",
    "import time\n",
    "import pandas as pd\n",
    "import numpy as np\n",
    "\n",
    "from jaqs.data import RemoteDataService\n",
    "from jaqs.trade import AlphaBacktestInstance\n",
    "from jaqs.trade import PortfolioManager\n",
    "#from jaqs.trade import RealTimeTradeApi\n",
    "\n",
    "import jaqs.util as jutil\n",
    "import jaqs.trade.analyze as ana\n",
    "from jaqs.trade import AlphaStrategy\n",
    "from jaqs.trade import AlphaTradeApi\n",
    "from jaqs.trade import model\n",
    "from jaqs.data import DataView"
   ]
  },
  {
   "cell_type": "code",
   "execution_count": 2,
   "metadata": {},
   "outputs": [],
   "source": [
    "# 设置文件存储路径\n",
    "dataview_dir_path = 'demoStrategy/dataview'\n",
    "backtest_result_dir_path = 'demoStrategy'\n",
    "\n",
    "# 设置服务器地址、用户名密码\n",
    "# 例如：\n",
    "# data_config = {\n",
    "#   \"remote.data.address\": \"tcp://data.tushare.org:8910\",\n",
    "#   \"remote.data.username\":  '18688888888',\n",
    "#   \"remote.data.password\":  '23sdjfk209d0fs9dejkl2j3k4j9d0fsdf'}\n",
    "\n",
    "# 如果没有使用quantos金融终端，请自行替换phone,token内容\n",
    "import os\n",
    "phone = os.environ.get(\"QUANTOS_USER\")\n",
    "token = os.environ.get(\"QUANTOS_TOKEN\")\n",
    "\n",
    "data_config = {\n",
    "  \"remote.data.address\": \"tcp://data.tushare.org:8910\",\n",
    "  \"remote.data.username\":  phone,\n",
    "  \"remote.data.password\":  token}\n",
    "trade_config = {\n",
    "  \"remote.trade.address\": \"tcp://gw.quantos.org:8901\",\n",
    "  \"remote.trade.username\":  phone,\n",
    "  \"remote.trade.password\":  token}\n",
    "\n",
    "\n",
    "# 设置Strategy number\n",
    "# 例如：StrategyNo = 1043\n",
    "StrategyNo = '1611'"
   ]
  },
  {
   "cell_type": "markdown",
   "metadata": {},
   "source": [
    "## 2. 参数设置"
   ]
  },
  {
   "cell_type": "code",
   "execution_count": 3,
   "metadata": {},
   "outputs": [],
   "source": [
    "# -------------------------------------------------------------------------------\n",
    "# 设置目标股票、业绩基准、权重、时间\n",
    "# -------------------------------------------------------------------------------\n",
    "symbol_weights = {'600519.SH': 0.25,\n",
    "                  '600036.SH': 0.25,\n",
    "                  '601318.SH': 0.25,\n",
    "                  '000651.SZ': 0.25}\n",
    "\n",
    "benchmark = '000300.SH'\n",
    "\n",
    "my_symbols = ','.join(symbol_weights.keys())\n",
    "start_date = 20170201\n",
    "end_date = 20171001\n",
    "\n",
    "# 定义权重函数\n",
    "def stockWeight(context, user_options=None):\n",
    "    return pd.Series(symbol_weights)"
   ]
  },
  {
   "cell_type": "markdown",
   "metadata": {},
   "source": [
    "## 3. 回测"
   ]
  },
  {
   "cell_type": "code",
   "execution_count": 4,
   "metadata": {},
   "outputs": [],
   "source": [
    "# -------------------------------------------------------------------------------\n",
    "# Main code 这个代码框不需要修改\n",
    "# -------------------------------------------------------------------------------\n",
    "\n",
    "def test_save_dataview():\n",
    "    ds = RemoteDataService()\n",
    "    ds.init_from_config(data_config)\n",
    "    dv = DataView()\n",
    "\n",
    "    props = {'start_date': start_date, 'end_date': end_date,\n",
    "             'fields': 'sw1',\n",
    "             'symbol': my_symbols,\n",
    "             'freq': 1}\n",
    "\n",
    "    dv.init_from_config(props, ds)\n",
    "    dv.prepare_data()\n",
    "\n",
    "    # set the benchmark\n",
    "    res, _ = ds.daily(benchmark, start_date=dv.start_date, end_date=dv.end_date)\n",
    "    dv._data_benchmark = res.set_index('trade_date').loc[:, ['close']]\n",
    "\n",
    "    dv.save_dataview(folder_path=dataview_dir_path)\n",
    "\n",
    "\n",
    "def test_alpha_strategy_dataview():\n",
    "    dv = DataView()\n",
    "\n",
    "    dv.load_dataview(folder_path=dataview_dir_path)\n",
    "\n",
    "    props = {\n",
    "        \"symbol\": dv.symbol,\n",
    "        \"universe\": ','.join(dv.symbol),\n",
    "\n",
    "        \"start_date\": dv.start_date,\n",
    "        \"end_date\": dv.end_date,\n",
    "\n",
    "        \"period\": \"week\",\n",
    "        \"days_delay\": 0,\n",
    "\n",
    "        \"init_balance\": 1e7,\n",
    "        \"position_ratio\": 1.0,\n",
    "        \"commission_rate\": 2E-4  # 手续费万2\n",
    "    }\n",
    "    props.update(data_config)\n",
    "    props.update(trade_config)\n",
    "\n",
    "    trade_api = AlphaTradeApi()\n",
    "\n",
    "    signal_model = model.FactorSignalModel()\n",
    "    signal_model.add_signal('stockWeight', stockWeight)\n",
    "\n",
    "    strategy = AlphaStrategy(signal_model=signal_model, pc_method='factor_value_weight')\n",
    "    pm = PortfolioManager()\n",
    "\n",
    "    bt = AlphaBacktestInstance()\n",
    "    \n",
    "    context = model.Context(dataview=dv, instance=bt, strategy=strategy, trade_api=trade_api, pm=pm)\n",
    "    \n",
    "    signal_model.register_context(context)\n",
    "\n",
    "    bt.init_from_config(props)\n",
    "\n",
    "    bt.run_alpha()\n",
    "\n",
    "    bt.save_results(folder_path=backtest_result_dir_path)\n",
    "    \n",
    "\n",
    "def test_backtest_analyze():\n",
    "    ta = ana.AlphaAnalyzer()\n",
    "    dv = DataView()\n",
    "    dv.load_dataview(folder_path=dataview_dir_path)\n",
    "\n",
    "    ta.initialize(dataview=dv, file_folder=backtest_result_dir_path)\n",
    "\n",
    "    ta.do_analyze(result_dir=backtest_result_dir_path, selected_sec=ta.universe,\n",
    "                  brinson_group=None)\n"
   ]
  },
  {
   "cell_type": "code",
   "execution_count": 6,
   "metadata": {
    "scrolled": true
   },
   "outputs": [
    {
     "name": "stdout",
     "output_type": "stream",
     "text": [
      "\n",
      "Begin: DataApi login 15900631541@tcp://data.tushare.org:8910\n",
      "    Already login as 15900631541, skip init_from_config\n",
      "Initialize config success.\n",
      "Query data...\n",
      "Query data - query...\n",
      "NOTE: price adjust method is [post adjust]\n",
      "Query data - daily fields prepared.\n",
      "Query instrument info...\n",
      "Query adj_factor...\n",
      "Query groups (industry)...\n"
     ]
    },
    {
     "ename": "ValueError",
     "evalue": "No objects to concatenate",
     "output_type": "error",
     "traceback": [
      "\u001b[1;31m---------------------------------------------------------------------------\u001b[0m",
      "\u001b[1;31mValueError\u001b[0m                                Traceback (most recent call last)",
      "\u001b[1;32m<ipython-input-6-cab3276b71f6>\u001b[0m in \u001b[0;36m<module>\u001b[1;34m()\u001b[0m\n\u001b[0;32m      1\u001b[0m \u001b[1;31m# 运行这里跑回测\u001b[0m\u001b[1;33m\u001b[0m\u001b[1;33m\u001b[0m\u001b[0m\n\u001b[1;32m----> 2\u001b[1;33m \u001b[0mtest_save_dataview\u001b[0m\u001b[1;33m(\u001b[0m\u001b[1;33m)\u001b[0m\u001b[1;33m\u001b[0m\u001b[0m\n\u001b[0m\u001b[0;32m      3\u001b[0m \u001b[0mtest_alpha_strategy_dataview\u001b[0m\u001b[1;33m(\u001b[0m\u001b[1;33m)\u001b[0m\u001b[1;33m\u001b[0m\u001b[0m\n\u001b[0;32m      4\u001b[0m \u001b[0mtest_backtest_analyze\u001b[0m\u001b[1;33m(\u001b[0m\u001b[1;33m)\u001b[0m\u001b[1;33m\u001b[0m\u001b[0m\n",
      "\u001b[1;32m<ipython-input-4-26714e6ef52a>\u001b[0m in \u001b[0;36mtest_save_dataview\u001b[1;34m()\u001b[0m\n\u001b[0;32m     14\u001b[0m \u001b[1;33m\u001b[0m\u001b[0m\n\u001b[0;32m     15\u001b[0m     \u001b[0mdv\u001b[0m\u001b[1;33m.\u001b[0m\u001b[0minit_from_config\u001b[0m\u001b[1;33m(\u001b[0m\u001b[0mprops\u001b[0m\u001b[1;33m,\u001b[0m \u001b[0mds\u001b[0m\u001b[1;33m)\u001b[0m\u001b[1;33m\u001b[0m\u001b[0m\n\u001b[1;32m---> 16\u001b[1;33m     \u001b[0mdv\u001b[0m\u001b[1;33m.\u001b[0m\u001b[0mprepare_data\u001b[0m\u001b[1;33m(\u001b[0m\u001b[1;33m)\u001b[0m\u001b[1;33m\u001b[0m\u001b[0m\n\u001b[0m\u001b[0;32m     17\u001b[0m \u001b[1;33m\u001b[0m\u001b[0m\n\u001b[0;32m     18\u001b[0m     \u001b[1;31m# set the benchmark\u001b[0m\u001b[1;33m\u001b[0m\u001b[1;33m\u001b[0m\u001b[0m\n",
      "\u001b[1;32mD:\\QuantosFinanceTerminal\\python\\lib\\site-packages\\jaqs\\data\\dataview.py\u001b[0m in \u001b[0;36mprepare_data\u001b[1;34m(self)\u001b[0m\n\u001b[0;32m    515\u001b[0m         \u001b[1;32mif\u001b[0m \u001b[0mgroup_fields\u001b[0m\u001b[1;33m:\u001b[0m\u001b[1;33m\u001b[0m\u001b[0m\n\u001b[0;32m    516\u001b[0m             \u001b[0mprint\u001b[0m\u001b[1;33m(\u001b[0m\u001b[1;34m\"Query groups (industry)...\"\u001b[0m\u001b[1;33m)\u001b[0m\u001b[1;33m\u001b[0m\u001b[0m\n\u001b[1;32m--> 517\u001b[1;33m             \u001b[0mself\u001b[0m\u001b[1;33m.\u001b[0m\u001b[0m_prepare_group\u001b[0m\u001b[1;33m(\u001b[0m\u001b[0mgroup_fields\u001b[0m\u001b[1;33m)\u001b[0m\u001b[1;33m\u001b[0m\u001b[0m\n\u001b[0m\u001b[0;32m    518\u001b[0m \u001b[1;33m\u001b[0m\u001b[0m\n\u001b[0;32m    519\u001b[0m         \u001b[0mprint\u001b[0m\u001b[1;33m(\u001b[0m\u001b[1;34m\"Data has been successfully prepared.\"\u001b[0m\u001b[1;33m)\u001b[0m\u001b[1;33m\u001b[0m\u001b[0m\n",
      "\u001b[1;32mD:\\QuantosFinanceTerminal\\python\\lib\\site-packages\\jaqs\\data\\dataview.py\u001b[0m in \u001b[0;36m_prepare_group\u001b[1;34m(self, group_fields)\u001b[0m\n\u001b[0;32m    789\u001b[0m             df = self.data_api.query_industry_daily(symbol=','.join(self.symbol),\n\u001b[0;32m    790\u001b[0m                                                     \u001b[0mstart_date\u001b[0m\u001b[1;33m=\u001b[0m\u001b[0mself\u001b[0m\u001b[1;33m.\u001b[0m\u001b[0mextended_start_date_q\u001b[0m\u001b[1;33m,\u001b[0m \u001b[0mend_date\u001b[0m\u001b[1;33m=\u001b[0m\u001b[0mself\u001b[0m\u001b[1;33m.\u001b[0m\u001b[0mend_date\u001b[0m\u001b[1;33m,\u001b[0m\u001b[1;33m\u001b[0m\u001b[0m\n\u001b[1;32m--> 791\u001b[1;33m                                                     type_=type_, level=level)\n\u001b[0m\u001b[0;32m    792\u001b[0m             \u001b[0mself\u001b[0m\u001b[1;33m.\u001b[0m\u001b[0mappend_df\u001b[0m\u001b[1;33m(\u001b[0m\u001b[0mdf\u001b[0m\u001b[1;33m,\u001b[0m \u001b[0mfield\u001b[0m\u001b[1;33m,\u001b[0m \u001b[0mis_quarterly\u001b[0m\u001b[1;33m=\u001b[0m\u001b[1;32mFalse\u001b[0m\u001b[1;33m)\u001b[0m\u001b[1;33m\u001b[0m\u001b[0m\n\u001b[0;32m    793\u001b[0m \u001b[1;33m\u001b[0m\u001b[0m\n",
      "\u001b[1;32mD:\\QuantosFinanceTerminal\\python\\lib\\site-packages\\jaqs\\data\\dataservice.py\u001b[0m in \u001b[0;36mquery_industry_daily\u001b[1;34m(self, symbol, start_date, end_date, type_, level)\u001b[0m\n\u001b[0;32m    867\u001b[0m                    for sec, df in dic_sec.items()}\n\u001b[0;32m    868\u001b[0m \u001b[1;33m\u001b[0m\u001b[0m\n\u001b[1;32m--> 869\u001b[1;33m         \u001b[0mdf_ann_tmp\u001b[0m \u001b[1;33m=\u001b[0m \u001b[0mpd\u001b[0m\u001b[1;33m.\u001b[0m\u001b[0mconcat\u001b[0m\u001b[1;33m(\u001b[0m\u001b[1;33m{\u001b[0m\u001b[0msec\u001b[0m\u001b[1;33m:\u001b[0m \u001b[0mdf\u001b[0m\u001b[1;33m.\u001b[0m\u001b[0mloc\u001b[0m\u001b[1;33m[\u001b[0m\u001b[1;33m:\u001b[0m\u001b[1;33m,\u001b[0m \u001b[1;34m'in_date'\u001b[0m\u001b[1;33m]\u001b[0m \u001b[1;32mfor\u001b[0m \u001b[0msec\u001b[0m\u001b[1;33m,\u001b[0m \u001b[0mdf\u001b[0m \u001b[1;32min\u001b[0m \u001b[0mdic_sec\u001b[0m\u001b[1;33m.\u001b[0m\u001b[0mitems\u001b[0m\u001b[1;33m(\u001b[0m\u001b[1;33m)\u001b[0m\u001b[1;33m}\u001b[0m\u001b[1;33m,\u001b[0m \u001b[0maxis\u001b[0m\u001b[1;33m=\u001b[0m\u001b[1;36m1\u001b[0m\u001b[1;33m)\u001b[0m\u001b[1;33m\u001b[0m\u001b[0m\n\u001b[0m\u001b[0;32m    870\u001b[0m         df_value_tmp = pd.concat({sec: df.loc[:, 'industry{:d}_code'.format(level)]\n\u001b[0;32m    871\u001b[0m                                   for sec, df in dic_sec.items()},\n",
      "\u001b[1;32mD:\\QuantosFinanceTerminal\\python\\lib\\site-packages\\pandas\\core\\reshape\\concat.py\u001b[0m in \u001b[0;36mconcat\u001b[1;34m(objs, axis, join, join_axes, ignore_index, keys, levels, names, verify_integrity, copy)\u001b[0m\n\u001b[0;32m    210\u001b[0m                        \u001b[0mkeys\u001b[0m\u001b[1;33m=\u001b[0m\u001b[0mkeys\u001b[0m\u001b[1;33m,\u001b[0m \u001b[0mlevels\u001b[0m\u001b[1;33m=\u001b[0m\u001b[0mlevels\u001b[0m\u001b[1;33m,\u001b[0m \u001b[0mnames\u001b[0m\u001b[1;33m=\u001b[0m\u001b[0mnames\u001b[0m\u001b[1;33m,\u001b[0m\u001b[1;33m\u001b[0m\u001b[0m\n\u001b[0;32m    211\u001b[0m                        \u001b[0mverify_integrity\u001b[0m\u001b[1;33m=\u001b[0m\u001b[0mverify_integrity\u001b[0m\u001b[1;33m,\u001b[0m\u001b[1;33m\u001b[0m\u001b[0m\n\u001b[1;32m--> 212\u001b[1;33m                        copy=copy)\n\u001b[0m\u001b[0;32m    213\u001b[0m     \u001b[1;32mreturn\u001b[0m \u001b[0mop\u001b[0m\u001b[1;33m.\u001b[0m\u001b[0mget_result\u001b[0m\u001b[1;33m(\u001b[0m\u001b[1;33m)\u001b[0m\u001b[1;33m\u001b[0m\u001b[0m\n\u001b[0;32m    214\u001b[0m \u001b[1;33m\u001b[0m\u001b[0m\n",
      "\u001b[1;32mD:\\QuantosFinanceTerminal\\python\\lib\\site-packages\\pandas\\core\\reshape\\concat.py\u001b[0m in \u001b[0;36m__init__\u001b[1;34m(self, objs, axis, join, join_axes, keys, levels, names, ignore_index, verify_integrity, copy)\u001b[0m\n\u001b[0;32m    243\u001b[0m \u001b[1;33m\u001b[0m\u001b[0m\n\u001b[0;32m    244\u001b[0m         \u001b[1;32mif\u001b[0m \u001b[0mlen\u001b[0m\u001b[1;33m(\u001b[0m\u001b[0mobjs\u001b[0m\u001b[1;33m)\u001b[0m \u001b[1;33m==\u001b[0m \u001b[1;36m0\u001b[0m\u001b[1;33m:\u001b[0m\u001b[1;33m\u001b[0m\u001b[0m\n\u001b[1;32m--> 245\u001b[1;33m             \u001b[1;32mraise\u001b[0m \u001b[0mValueError\u001b[0m\u001b[1;33m(\u001b[0m\u001b[1;34m'No objects to concatenate'\u001b[0m\u001b[1;33m)\u001b[0m\u001b[1;33m\u001b[0m\u001b[0m\n\u001b[0m\u001b[0;32m    246\u001b[0m \u001b[1;33m\u001b[0m\u001b[0m\n\u001b[0;32m    247\u001b[0m         \u001b[1;32mif\u001b[0m \u001b[0mkeys\u001b[0m \u001b[1;32mis\u001b[0m \u001b[1;32mNone\u001b[0m\u001b[1;33m:\u001b[0m\u001b[1;33m\u001b[0m\u001b[0m\n",
      "\u001b[1;31mValueError\u001b[0m: No objects to concatenate"
     ]
    }
   ],
   "source": [
    "# 运行这里跑回测\n",
    "test_save_dataview()\n",
    "test_alpha_strategy_dataview()\n",
    "test_backtest_analyze()\n"
   ]
  },
  {
   "cell_type": "markdown",
   "metadata": {},
   "source": [
    "回测显示运行完成后，报告可从上面对话框最后一行的地址中找到 `HTML report: ...\\demoStrategy\\report.html`"
   ]
  },
  {
   "cell_type": "markdown",
   "metadata": {},
   "source": [
    "## 4. 仿真交易"
   ]
  },
  {
   "cell_type": "code",
   "execution_count": null,
   "metadata": {},
   "outputs": [],
   "source": [
    "from jaqs.trade.tradeapi import TradeApi"
   ]
  },
  {
   "cell_type": "code",
   "execution_count": null,
   "metadata": {},
   "outputs": [],
   "source": [
    "tapi = TradeApi(trade_config['remote.trade.address'])"
   ]
  },
  {
   "cell_type": "code",
   "execution_count": null,
   "metadata": {},
   "outputs": [],
   "source": [
    "def on_orderstatus(order):\n",
    "    print(\"on_orderstatus:\") #, order\n",
    "    for key in order:    print(\"%20s : %s\" % (key, str(order[key])))\n",
    "    print(\"\")\n",
    "\n",
    "\n",
    "# 成交回报推送\n",
    "def on_trade(trade):\n",
    "    print(\"on_trade:\")\n",
    "    for key in trade:    print(\"%20s : %s\" % (key, str(trade[key])))\n",
    "    print(\"\")\n",
    "\n",
    "# 委托任务执行状态推送\n",
    "# 通常可以忽略该回调函数\n",
    "def on_taskstatus(task):\n",
    "    print(\"on_taskstatus:\")\n",
    "    for key in task:    print(\"%20s : %s\" % (key, str(task[key])))\n",
    "    print(\"\")\n",
    "\n",
    "tapi.set_ordstatus_callback(on_orderstatus)\n",
    "tapi.set_trade_callback(on_trade)\n",
    "tapi.set_task_callback(on_taskstatus)"
   ]
  },
  {
   "cell_type": "code",
   "execution_count": null,
   "metadata": {},
   "outputs": [],
   "source": [
    "user_info, msg = tapi.login(trade_config['remote.trade.username'], trade_config['remote.trade.password'])"
   ]
  },
  {
   "cell_type": "code",
   "execution_count": null,
   "metadata": {},
   "outputs": [],
   "source": [
    "print(user_info)\n",
    "tapi.use_strategy(StrategyNo)  #改成用户自己的 strategy号\n",
    "\n",
    "res, msg = tapi.query_account()\n",
    "print(res)\n",
    "\n",
    "money = res.loc[0, 'enable_balance']\n",
    "print(\"Balance we have: {}\".format(money))"
   ]
  },
  {
   "cell_type": "code",
   "execution_count": null,
   "metadata": {
    "scrolled": true
   },
   "outputs": [],
   "source": [
    "dic_price      = {'600519.SH': 637.70,\n",
    "                  '600036.SH': 28.72,\n",
    "                  '601318.SH': 63.29,\n",
    "                  '000651.SZ': 41.96}\n",
    "\n",
    "# 每只股票等金额投资，各买入30万元\n",
    "dic_shares = {k: 100 * np.floor(money * 0.012 * symbol_weights[k] / dic_price[k]/100) for k, _ in symbol_weights.items()}\n",
    "dic_shares\n",
    "\n",
    "orders = []\n",
    "for symbol in symbol_weights.keys():\n",
    "    o = {'security': symbol, 'price': dic_price[symbol], 'size': dic_shares[symbol], 'action': 'Buy'}\n",
    "    orders.append(o)\n",
    "orders"
   ]
  },
  {
   "cell_type": "code",
   "execution_count": null,
   "metadata": {},
   "outputs": [],
   "source": [
    "# 买入股票\n",
    "task_id, msg = tapi.place_batch_order(orders)\n",
    "print(task_id)\n",
    "print(msg)    "
   ]
  },
  {
   "cell_type": "code",
   "execution_count": null,
   "metadata": {},
   "outputs": [],
   "source": [
    "# 做空一手沪深300股指期货做对冲\n",
    "# task_id, msg = tapi.place_order(\"IF1712.CFE\", \"Short\", 4003.6, 1)\n",
    "# print(task_id)\n",
    "# print(msg)"
   ]
  },
  {
   "cell_type": "code",
   "execution_count": null,
   "metadata": {},
   "outputs": [],
   "source": []
  }
 ],
 "metadata": {
  "kernelspec": {
   "display_name": "Python 3",
   "language": "python",
   "name": "python3"
  },
  "language_info": {
   "codemirror_mode": {
    "name": "ipython",
    "version": 3
   },
   "file_extension": ".py",
   "mimetype": "text/x-python",
   "name": "python",
   "nbconvert_exporter": "python",
   "pygments_lexer": "ipython3",
   "version": "3.6.3"
  }
 },
 "nbformat": 4,
 "nbformat_minor": 2
}
